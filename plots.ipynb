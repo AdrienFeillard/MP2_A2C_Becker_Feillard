{
 "cells": [
  {
   "cell_type": "code",
   "outputs": [],
   "source": [
    "import numpy as np\n",
    "import matplotlib.pyplot as plt\n",
    "import os"
   ],
   "metadata": {
    "collapsed": false,
    "ExecuteTime": {
     "end_time": "2024-06-02T09:34:38.370858Z",
     "start_time": "2024-06-02T09:34:37.963974Z"
    }
   },
   "id": "3c62ed8e7dfb5d4f",
   "execution_count": 1
  },
  {
   "cell_type": "code",
   "execution_count": 2,
   "id": "initial_id",
   "metadata": {
    "collapsed": true,
    "ExecuteTime": {
     "end_time": "2024-06-02T09:34:38.386325Z",
     "start_time": "2024-06-02T09:34:38.371828Z"
    }
   },
   "outputs": [],
   "source": [
    "plots_arrays = []\n",
    "for i in range(1, 8):\n",
    "    path = f'plots/agent{i}/plot_arrays.npz' if i != 7 else f'plots/agent1_stoch/plot_arrays.npz'\n",
    "    plots_arrays.append(np.load(path))"
   ]
  },
  {
   "cell_type": "code",
   "outputs": [],
   "source": [],
   "metadata": {
    "collapsed": false,
    "ExecuteTime": {
     "end_time": "2024-06-02T09:34:38.511641Z",
     "start_time": "2024-06-02T09:34:38.493644Z"
    }
   },
   "id": "86799767031e9db3",
   "execution_count": 2
  },
  {
   "cell_type": "code",
   "outputs": [
    {
     "name": "stdout",
     "output_type": "stream",
     "text": [
      "Plot saved as plots/eval_returns.png\n",
      "Plot saved as plots/eval_trajec_values.png\n"
     ]
    }
   ],
   "source": [
    "def aggregate_plots(iterations, array, agents, ylabel, title, name, log_scale=False):\n",
    "    plt.figure(figsize=(10, 5))  # Adjust the figure size as needed\n",
    "    \n",
    "    for i in range(len(agents)):\n",
    "        min_values = np.min(array[i], axis=0)\n",
    "        max_values = np.max(array[i], axis=0)\n",
    "        avg_values = np.mean(array[i], axis=0)\n",
    "\n",
    "        plt.fill_between(iterations, min_values, max_values, alpha=0.5, label=f'Agent {agents[i]} Min-Max Range')\n",
    "        plt.plot(iterations, avg_values, label=f'Agent {agents[i]} Average')\n",
    "\n",
    "    plt.xlabel('Time Steps')\n",
    "    plt.ylabel(ylabel)\n",
    "    if log_scale:\n",
    "        plt.yscale('log')\n",
    "    plt.title(title)\n",
    "    plt.legend()\n",
    "    plt.grid(True)\n",
    "\n",
    "    path = 'plots'\n",
    "    os.makedirs(path, exist_ok=True)\n",
    "\n",
    "    filename = f'{path}/{name}.png'\n",
    "    plt.savefig(filename)\n",
    "    plt.close()\n",
    "    print(f\"Plot saved as {filename}\")\n",
    "    \n",
    "tr_iterations = [1000 * i for i in range(1, len(plots_arrays[0]['tr_returns'][0]))]\n",
    "eval_iterations = [20000 * i for i in range(1, len(plots_arrays[0]['eval_returns'][0]))]\n",
    "\n",
    "tr_returns_arrays = [plots_arrays[i]['tr_returns'] for i in range(7)]\n",
    "eval_returns_arrays = [plots_arrays[i]['eval_returns'] for i in range(7)]\n",
    "eval_trajec_values_arrays = [plots_arrays[i]['eval_trajec_values'] for i in range(7)]\n",
    "actor_arrays = [plots_arrays[i]['actor_losses'] for i in range(7)]\n",
    "critic_arrays = [plots_arrays[i]['critic_losses'] for i in range(7)]\n",
    "\n",
    "aggregate_plots(\n",
    "    eval_iterations,\n",
    "    [eval_returns_arrays[-1][:, :-1], eval_returns_arrays[1], eval_returns_arrays[2], eval_returns_arrays[3]],\n",
    "    ['1_stoch', '2', '3', '4'],\n",
    "    'Undiscounted Return',\n",
    "    'Evaluation episodic undiscounted return for agents 1 to 4 with reward masking',\n",
    "    'eval_returns',\n",
    "    log_scale=False\n",
    ")\n",
    "\n",
    "aggregate_plots(\n",
    "    eval_iterations,\n",
    "    [eval_trajec_values_arrays[-1][:, :-1], eval_trajec_values_arrays[1], eval_trajec_values_arrays[2], eval_trajec_values_arrays[3]],\n",
    "    ['1_stoch', '2', '3', '4'],\n",
    "    'Critic value',\n",
    "    'Mean critic value during sampled evaluation trajectories for agents 1 to 4 with reward masking',\n",
    "    'eval_trajec_values',\n",
    "    log_scale=False\n",
    ")"
   ],
   "metadata": {
    "collapsed": false,
    "ExecuteTime": {
     "end_time": "2024-06-02T10:17:08.369067Z",
     "start_time": "2024-06-02T10:17:08.053364Z"
    }
   },
   "id": "a6eadc6e8cecced8",
   "execution_count": 18
  },
  {
   "cell_type": "code",
   "outputs": [],
   "source": [],
   "metadata": {
    "collapsed": false
   },
   "id": "be33fe4f2da89f28"
  }
 ],
 "metadata": {
  "kernelspec": {
   "display_name": "Python 3",
   "language": "python",
   "name": "python3"
  },
  "language_info": {
   "codemirror_mode": {
    "name": "ipython",
    "version": 2
   },
   "file_extension": ".py",
   "mimetype": "text/x-python",
   "name": "python",
   "nbconvert_exporter": "python",
   "pygments_lexer": "ipython2",
   "version": "2.7.6"
  }
 },
 "nbformat": 4,
 "nbformat_minor": 5
}
