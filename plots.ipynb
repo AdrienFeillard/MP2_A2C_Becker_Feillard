{
 "cells": [
  {
   "cell_type": "code",
   "source": [
    "import numpy as np\n",
    "import matplotlib.pyplot as plt\n",
    "import os"
   ],
   "metadata": {
    "collapsed": false,
    "ExecuteTime": {
     "end_time": "2024-06-02T16:37:44.347385Z",
     "start_time": "2024-06-02T16:37:44.342379Z"
    }
   },
   "id": "3c62ed8e7dfb5d4f",
   "outputs": [],
   "execution_count": 617
  },
  {
   "cell_type": "code",
   "id": "initial_id",
   "metadata": {
    "collapsed": true,
    "ExecuteTime": {
     "end_time": "2024-06-02T16:37:44.378263Z",
     "start_time": "2024-06-02T16:37:44.370215Z"
    }
   },
   "source": [
    "plots_arrays = []\n",
    "for i in range(1, 8):\n",
    "    path = f'plots/agent{i}/plot_arrays.npz' if i != 7 else f'plots/agent1_stoch/plot_arrays.npz'\n",
    "    plots_arrays.append(np.load(path))"
   ],
   "outputs": [],
   "execution_count": 618
  },
  {
   "cell_type": "code",
   "source": [
    "def exponential_moving_average(data, alpha=0.3):\n",
    "    ema = np.zeros_like(data)\n",
    "    ema[0] = data[0]\n",
    "    for t in range(1, len(data)):\n",
    "        ema[t] = alpha * data[t] + (1 - alpha) * ema[t - 1]\n",
    "    return ema"
   ],
   "metadata": {
    "collapsed": false,
    "ExecuteTime": {
     "end_time": "2024-06-02T16:37:44.439446Z",
     "start_time": "2024-06-02T16:37:44.430646Z"
    }
   },
   "id": "86799767031e9db3",
   "outputs": [],
   "execution_count": 619
  },
  {
   "cell_type": "code",
   "source": [
    "def aggregate_plots(tr_iterations,eval_iterations, array, agents, ylabel, title, name, log_scale=False , smoothing = False, plot_eval=False):\n",
    "    plt.figure(figsize=(10, 5))  # Adjust the figure size as needed\n",
    "    \n",
    "    \n",
    "        \n",
    "    if smoothing:\n",
    "        # Apply smoothing\n",
    "        min_values = np.min(array[0], axis=0)\n",
    "        max_values = np.max(array[0], axis=0)\n",
    "        avg_values = np.mean(array[0], axis=0)\n",
    "        \n",
    "        alpha = 0.1 \n",
    "        \n",
    "        smoothed_min_values = exponential_moving_average(min_values, alpha)\n",
    "        smoothed_max_values = exponential_moving_average(max_values, alpha)\n",
    "        smoothed_avg_values = exponential_moving_average(avg_values, alpha)\n",
    "    \n",
    "        adjusted_iterations = tr_iterations[:len(smoothed_avg_values)]\n",
    "    \n",
    "        #plt.fill_between(tr_iterations, min_values, max_values, alpha=0.3, color='lightblue', label='Min-Max Range (Raw)')\n",
    "        plt.plot(tr_iterations, avg_values, label='Average (Raw)', color='steelblue')\n",
    "    \n",
    "        plt.fill_between(adjusted_iterations, smoothed_min_values, smoothed_max_values, alpha=0.5, color='lightsalmon', label='Min-Max Range (Smoothed)')\n",
    "        plt.plot(adjusted_iterations, smoothed_avg_values, label='Average (Smoothed)', color='red')\n",
    "        \n",
    "        \n",
    "        #plt.plot(adjusted_iterations, smoothed_min_values, label='Min (Smoothed)', color='red', linestyle='dashed')\n",
    "        #plt.plot(adjusted_iterations, smoothed_max_values, label='Max (Smoothed)', color='red', linestyle='dashed')\n",
    "        if plot_eval:\n",
    "\n",
    "            \n",
    "            min_values = np.min(array[1], axis=0)\n",
    "            max_values = np.max(array[1], axis=0)\n",
    "            avg_values = np.mean(array[1], axis=0)\n",
    "            plt.fill_between(eval_iterations, min_values, max_values, alpha=0.5, label=f'Agent {agents[1]} Min-Max Range', color='thistle')\n",
    "            plt.plot(eval_iterations, avg_values, label=f'Agent {agents[1]} Average', color='violet', linestyle='-.')\n",
    "    else:\n",
    "        for i in range(len(agents)):\n",
    "            min_values = np.min(array[i], axis=0)\n",
    "            max_values = np.max(array[i], axis=0)\n",
    "            avg_values = np.mean(array[i], axis=0)\n",
    "    \n",
    "            plt.fill_between(eval_iterations, min_values, max_values, alpha=0.5, label=f'Agent {agents[i]} Min-Max Range')\n",
    "            plt.plot(eval_iterations, avg_values, label=f'Agent {agents[i]} Average')\n",
    "\n",
    "    plt.xlabel('Time Steps')\n",
    "    plt.ylabel(ylabel)\n",
    "    if log_scale:\n",
    "        plt.yscale('log')\n",
    "    plt.title(title)\n",
    "    plt.legend()\n",
    "    plt.grid(True)\n",
    "\n",
    "    path = 'plots'\n",
    "    os.makedirs(path, exist_ok=True)\n",
    "\n",
    "    filename = f'{path}/{name}.png'\n",
    "    plt.savefig(filename)\n",
    "    plt.close()\n",
    "    print(f\"Plot saved as {filename}\")\n",
    "\n",
    "tr_iterations = [1000 * i for i in range(1, len(plots_arrays[0]['tr_returns'][0]))]\n",
    "eval_iterations = [20000 * i for i in range(1, len(plots_arrays[0]['eval_returns'][0]))]\n",
    "\n",
    "tr_returns_arrays = [plots_arrays[i]['tr_returns'] for i in range(7)]\n",
    "eval_returns_arrays = [plots_arrays[i]['eval_returns'] for i in range(7)]\n",
    "eval_trajec_values_arrays = [plots_arrays[i]['eval_trajec_values'] for i in range(7)]\n",
    "actor_arrays = [plots_arrays[i]['actor_losses'] for i in range(7)]\n",
    "critic_arrays = [plots_arrays[i]['critic_losses'] for i in range(7)]\n",
    "\n"
   ],
   "metadata": {
    "collapsed": false,
    "ExecuteTime": {
     "end_time": "2024-06-02T16:37:44.470233Z",
     "start_time": "2024-06-02T16:37:44.441447Z"
    }
   },
   "id": "a6eadc6e8cecced8",
   "outputs": [],
   "execution_count": 620
  },
  {
   "metadata": {
    "ExecuteTime": {
     "end_time": "2024-06-02T16:37:44.626238Z",
     "start_time": "2024-06-02T16:37:44.472233Z"
    }
   },
   "cell_type": "code",
   "source": [
    "aggregate_plots(\n",
    "    tr_iterations,\n",
    "    eval_iterations,\n",
    "    [eval_trajec_values_arrays[-1][:, :-1], eval_trajec_values_arrays[1], eval_trajec_values_arrays[2], eval_trajec_values_arrays[3]],\n",
    "    ['1_stoch', '2', '3', '4'],\n",
    "    'Critic value',\n",
    "    None,\n",
    "    'eval_trajec_values_1_2_3_4',\n",
    "    log_scale=False\n",
    ")"
   ],
   "id": "2569b172b5085fb1",
   "outputs": [
    {
     "name": "stdout",
     "output_type": "stream",
     "text": [
      "Plot saved as plots/eval_trajec_values_1_2_3_4.png\n"
     ]
    }
   ],
   "execution_count": 621
  },
  {
   "metadata": {
    "ExecuteTime": {
     "end_time": "2024-06-02T16:39:01.499396Z",
     "start_time": "2024-06-02T16:39:01.377493Z"
    }
   },
   "cell_type": "code",
   "source": [
    "aggregate_plots(\n",
    "    tr_iterations,\n",
    "    eval_iterations,\n",
    "    [eval_trajec_values_arrays[4][:, :-1], eval_trajec_values_arrays[5]],\n",
    "    ['5', '6'],\n",
    "    'Critic value',\n",
    "    None,\n",
    "    'eval_trajec_values_5_6',\n",
    "    log_scale=False\n",
    ")"
   ],
   "id": "2b0887d645a7f035",
   "outputs": [
    {
     "name": "stdout",
     "output_type": "stream",
     "text": [
      "Plot saved as plots/eval_trajec_values_5_6.png\n"
     ]
    }
   ],
   "execution_count": 644
  },
  {
   "cell_type": "code",
   "source": [
    "aggregate_plots(\n",
    "    tr_iterations,\n",
    "    eval_iterations,\n",
    "    [eval_trajec_values_arrays[0][:,:24]],\n",
    "    ['1'],\n",
    "    'Critic value',\n",
    "    None,\n",
    "    'eval_trajec_values_1',\n",
    "    log_scale=False\n",
    ")"
   ],
   "metadata": {
    "collapsed": false,
    "ExecuteTime": {
     "end_time": "2024-06-02T16:37:44.733680Z",
     "start_time": "2024-06-02T16:37:44.627742Z"
    }
   },
   "id": "be33fe4f2da89f28",
   "outputs": [
    {
     "name": "stdout",
     "output_type": "stream",
     "text": [
      "Plot saved as plots/eval_trajec_values_1.png\n"
     ]
    }
   ],
   "execution_count": 622
  },
  {
   "metadata": {
    "ExecuteTime": {
     "end_time": "2024-06-02T16:37:45.166257Z",
     "start_time": "2024-06-02T16:37:44.734682Z"
    }
   },
   "cell_type": "code",
   "source": [
    "aggregate_plots(tr_iterations,\n",
    "                eval_iterations,\n",
    "                [actor_arrays[0][:,:499]],\n",
    "                ['1'],\n",
    "                'Mean Value',\n",
    "                None,\n",
    "                'actor_loss_1',\n",
    "                log_scale=False,\n",
    "                smoothing=True)           "
   ],
   "id": "dcd2f5bc3ca17725",
   "outputs": [
    {
     "name": "stdout",
     "output_type": "stream",
     "text": [
      "Plot saved as plots/actor_loss_1.png\n"
     ]
    }
   ],
   "execution_count": 623
  },
  {
   "metadata": {
    "ExecuteTime": {
     "end_time": "2024-06-02T16:37:45.289733Z",
     "start_time": "2024-06-02T16:37:45.168334Z"
    }
   },
   "cell_type": "code",
   "source": [
    "aggregate_plots(tr_iterations,\n",
    "                eval_iterations,\n",
    "                [actor_arrays[-1][:,:499]],\n",
    "                ['1 stoch'],\n",
    "                'Mean Value',\n",
    "                None,\n",
    "                'actor_loss_1_stoch',\n",
    "                log_scale=False,\n",
    "                smoothing=True)"
   ],
   "id": "e305b577281111e2",
   "outputs": [
    {
     "name": "stdout",
     "output_type": "stream",
     "text": [
      "Plot saved as plots/actor_loss_1_stoch.png\n"
     ]
    }
   ],
   "execution_count": 624
  },
  {
   "metadata": {
    "ExecuteTime": {
     "end_time": "2024-06-02T16:37:45.429940Z",
     "start_time": "2024-06-02T16:37:45.290734Z"
    }
   },
   "cell_type": "code",
   "source": [
    "aggregate_plots(tr_iterations,\n",
    "                eval_iterations,\n",
    "                [actor_arrays[1][:,:499]],\n",
    "                ['2'],\n",
    "                'Mean Value',\n",
    "                None,\n",
    "                'actor_loss_2',\n",
    "                log_scale=False,\n",
    "                smoothing=True) "
   ],
   "id": "98fb8cbe91f62ebc",
   "outputs": [
    {
     "name": "stdout",
     "output_type": "stream",
     "text": [
      "Plot saved as plots/actor_loss_2.png\n"
     ]
    }
   ],
   "execution_count": 625
  },
  {
   "metadata": {
    "ExecuteTime": {
     "end_time": "2024-06-02T16:37:45.569856Z",
     "start_time": "2024-06-02T16:37:45.430942Z"
    }
   },
   "cell_type": "code",
   "source": [
    "aggregate_plots(tr_iterations,\n",
    "                eval_iterations,\n",
    "                [actor_arrays[2][:,:499]],\n",
    "                ['3'],\n",
    "                'Mean Value',\n",
    "                None,\n",
    "                'actor_loss_3',\n",
    "                log_scale=False,\n",
    "                smoothing=True) "
   ],
   "id": "404c46fdf2fb7a7b",
   "outputs": [
    {
     "name": "stdout",
     "output_type": "stream",
     "text": [
      "Plot saved as plots/actor_loss_3.png\n"
     ]
    }
   ],
   "execution_count": 626
  },
  {
   "metadata": {
    "ExecuteTime": {
     "end_time": "2024-06-02T16:37:45.708806Z",
     "start_time": "2024-06-02T16:37:45.570857Z"
    }
   },
   "cell_type": "code",
   "source": [
    "aggregate_plots(tr_iterations,\n",
    "                eval_iterations,\n",
    "                [actor_arrays[3][:,:499]],\n",
    "                ['4'],\n",
    "                'Mean Value',\n",
    "                None,\n",
    "                'actor_loss_4',\n",
    "                log_scale=False,\n",
    "                smoothing=True)"
   ],
   "id": "deac9cea5c238b1c",
   "outputs": [
    {
     "name": "stdout",
     "output_type": "stream",
     "text": [
      "Plot saved as plots/actor_loss_4.png\n"
     ]
    }
   ],
   "execution_count": 627
  },
  {
   "metadata": {
    "ExecuteTime": {
     "end_time": "2024-06-02T16:37:45.848074Z",
     "start_time": "2024-06-02T16:37:45.709809Z"
    }
   },
   "cell_type": "code",
   "source": [
    "aggregate_plots(tr_iterations,\n",
    "                eval_iterations,\n",
    "                [actor_arrays[4][:,:499]],\n",
    "                ['5'],\n",
    "                'Mean Value',\n",
    "                None,\n",
    "                'actor_loss_5',\n",
    "                log_scale=False,\n",
    "                smoothing=True)"
   ],
   "id": "7cb96c79ea915865",
   "outputs": [
    {
     "name": "stdout",
     "output_type": "stream",
     "text": [
      "Plot saved as plots/actor_loss_5.png\n"
     ]
    }
   ],
   "execution_count": 628
  },
  {
   "metadata": {
    "ExecuteTime": {
     "end_time": "2024-06-02T16:37:46.003963Z",
     "start_time": "2024-06-02T16:37:45.849353Z"
    }
   },
   "cell_type": "code",
   "source": [
    "aggregate_plots(tr_iterations,\n",
    "                eval_iterations,\n",
    "                [actor_arrays[5][:,:499]],\n",
    "                ['6'],\n",
    "                'Mean Value',\n",
    "                None,\n",
    "                'actor_loss_6',\n",
    "                log_scale=False,\n",
    "                smoothing=True)"
   ],
   "id": "8a6b5a13caae9729",
   "outputs": [
    {
     "name": "stdout",
     "output_type": "stream",
     "text": [
      "Plot saved as plots/actor_loss_6.png\n"
     ]
    }
   ],
   "execution_count": 629
  },
  {
   "metadata": {
    "ExecuteTime": {
     "end_time": "2024-06-02T16:37:46.176127Z",
     "start_time": "2024-06-02T16:37:46.004964Z"
    }
   },
   "cell_type": "code",
   "source": [
    "aggregate_plots(tr_iterations,\n",
    "                eval_iterations,\n",
    "                [critic_arrays[0][:,:499]],\n",
    "                ['1'],\n",
    "                'Mean Value',\n",
    "                None,\n",
    "                'critic_loss_1',\n",
    "                log_scale=True,\n",
    "                smoothing=True)"
   ],
   "id": "295c3be4721e6813",
   "outputs": [
    {
     "name": "stdout",
     "output_type": "stream",
     "text": [
      "Plot saved as plots/critic_loss_1.png\n"
     ]
    }
   ],
   "execution_count": 630
  },
  {
   "metadata": {
    "ExecuteTime": {
     "end_time": "2024-06-02T16:37:46.393798Z",
     "start_time": "2024-06-02T16:37:46.178196Z"
    }
   },
   "cell_type": "code",
   "source": [
    "aggregate_plots(tr_iterations,\n",
    "                eval_iterations,\n",
    "                [critic_arrays[1][:,:499]],\n",
    "                ['2'],\n",
    "                'Mean Value',\n",
    "                None,\n",
    "                'critic_loss_2',\n",
    "                log_scale=True,\n",
    "                smoothing=True)"
   ],
   "id": "1dc15d917660d21f",
   "outputs": [
    {
     "name": "stdout",
     "output_type": "stream",
     "text": [
      "Plot saved as plots/critic_loss_2.png\n"
     ]
    }
   ],
   "execution_count": 631
  },
  {
   "metadata": {
    "ExecuteTime": {
     "end_time": "2024-06-02T16:37:46.624890Z",
     "start_time": "2024-06-02T16:37:46.394798Z"
    }
   },
   "cell_type": "code",
   "source": [
    "aggregate_plots(tr_iterations,\n",
    "                eval_iterations,\n",
    "                [critic_arrays[2][:,:499]],\n",
    "                ['3'],\n",
    "                'Mean Value',\n",
    "                None,\n",
    "                'critic_loss_3',\n",
    "                log_scale=True,\n",
    "                smoothing=True)"
   ],
   "id": "88dae2e331ca2b78",
   "outputs": [
    {
     "name": "stdout",
     "output_type": "stream",
     "text": [
      "Plot saved as plots/critic_loss_3.png\n"
     ]
    }
   ],
   "execution_count": 632
  },
  {
   "metadata": {
    "ExecuteTime": {
     "end_time": "2024-06-02T16:37:46.795435Z",
     "start_time": "2024-06-02T16:37:46.627396Z"
    }
   },
   "cell_type": "code",
   "source": [
    "aggregate_plots(tr_iterations,\n",
    "                eval_iterations,\n",
    "                [critic_arrays[3][:,:499]],\n",
    "                ['4'],\n",
    "                'Mean Value',\n",
    "                None,\n",
    "                'critic_loss_4',\n",
    "                log_scale=True,\n",
    "                smoothing=True)"
   ],
   "id": "6e443246bb9bd218",
   "outputs": [
    {
     "name": "stdout",
     "output_type": "stream",
     "text": [
      "Plot saved as plots/critic_loss_4.png\n"
     ]
    }
   ],
   "execution_count": 633
  },
  {
   "metadata": {
    "ExecuteTime": {
     "end_time": "2024-06-02T16:37:47.028833Z",
     "start_time": "2024-06-02T16:37:46.796437Z"
    }
   },
   "cell_type": "code",
   "source": [
    "aggregate_plots(tr_iterations,\n",
    "                eval_iterations,\n",
    "                [critic_arrays[4][:,:499]],\n",
    "                ['5'],\n",
    "                'Mean Value',\n",
    "                None,\n",
    "                'critic_loss_5',\n",
    "                log_scale=True,\n",
    "                smoothing=True)"
   ],
   "id": "6374f17350051644",
   "outputs": [
    {
     "name": "stdout",
     "output_type": "stream",
     "text": [
      "Plot saved as plots/critic_loss_5.png\n"
     ]
    }
   ],
   "execution_count": 634
  },
  {
   "metadata": {
    "ExecuteTime": {
     "end_time": "2024-06-02T16:37:47.229829Z",
     "start_time": "2024-06-02T16:37:47.030836Z"
    }
   },
   "cell_type": "code",
   "source": [
    "aggregate_plots(tr_iterations,\n",
    "                eval_iterations,\n",
    "                [critic_arrays[5][:,:499]],\n",
    "                ['6'],\n",
    "                'Mean Value',\n",
    "                None,\n",
    "                'critic_loss_6',\n",
    "                log_scale=True,\n",
    "                smoothing=True)"
   ],
   "id": "c75ba155120247fb",
   "outputs": [
    {
     "name": "stdout",
     "output_type": "stream",
     "text": [
      "Plot saved as plots/critic_loss_6.png\n"
     ]
    }
   ],
   "execution_count": 635
  },
  {
   "metadata": {
    "ExecuteTime": {
     "end_time": "2024-06-02T16:37:47.493811Z",
     "start_time": "2024-06-02T16:37:47.230830Z"
    }
   },
   "cell_type": "code",
   "source": [
    "aggregate_plots(tr_iterations,\n",
    "                eval_iterations,\n",
    "                [critic_arrays[6][:,:499]],\n",
    "                ['1_stoch'],\n",
    "                'Mean Value',\n",
    "                None,\n",
    "                'critic_loss_1_stoch',\n",
    "                log_scale=True,\n",
    "                smoothing=True)"
   ],
   "id": "c8355fcf6abe7f59",
   "outputs": [
    {
     "name": "stdout",
     "output_type": "stream",
     "text": [
      "Plot saved as plots/critic_loss_1_stoch.png\n"
     ]
    }
   ],
   "execution_count": 636
  },
  {
   "metadata": {
    "ExecuteTime": {
     "end_time": "2024-06-02T16:37:47.632806Z",
     "start_time": "2024-06-02T16:37:47.494812Z"
    }
   },
   "cell_type": "code",
   "source": [
    "aggregate_plots(tr_iterations,\n",
    "                eval_iterations,\n",
    "                [tr_returns_arrays[0][:,:499], eval_returns_arrays[0][:,:24]],\n",
    "                ['1 training', '1 evaluation'],\n",
    "                'Mean Value',\n",
    "                None,\n",
    "                'tr_return_1',\n",
    "                log_scale=False,\n",
    "                smoothing=True,\n",
    "                plot_eval=True\n",
    "                )"
   ],
   "id": "2b63152c026d0021",
   "outputs": [
    {
     "name": "stdout",
     "output_type": "stream",
     "text": [
      "Plot saved as plots/tr_return_1.png\n"
     ]
    }
   ],
   "execution_count": 637
  },
  {
   "metadata": {
    "ExecuteTime": {
     "end_time": "2024-06-02T16:37:47.786410Z",
     "start_time": "2024-06-02T16:37:47.633807Z"
    }
   },
   "cell_type": "code",
   "source": [
    "aggregate_plots(tr_iterations,\n",
    "                eval_iterations,\n",
    "                [tr_returns_arrays[1][:,:499], eval_returns_arrays[1][:,:24]],\n",
    "                ['2 training', '2 evaluation'],\n",
    "                'Mean Value',\n",
    "                None,\n",
    "                'tr_return_2',\n",
    "                log_scale=False,\n",
    "                smoothing=True,\n",
    "                plot_eval=True\n",
    "                )"
   ],
   "id": "fa4ba026b309da44",
   "outputs": [
    {
     "name": "stdout",
     "output_type": "stream",
     "text": [
      "Plot saved as plots/tr_return_2.png\n"
     ]
    }
   ],
   "execution_count": 638
  },
  {
   "metadata": {
    "ExecuteTime": {
     "end_time": "2024-06-02T16:37:47.940317Z",
     "start_time": "2024-06-02T16:37:47.787915Z"
    }
   },
   "cell_type": "code",
   "source": [
    "aggregate_plots(tr_iterations,\n",
    "                eval_iterations,\n",
    "                [tr_returns_arrays[2][:,:499], eval_returns_arrays[2][:,:24]],\n",
    "                ['3 stoch training', '3 stoch evaluation'],\n",
    "                'Mean Value',\n",
    "                None,\n",
    "                'tr_return_3',\n",
    "                log_scale=False,\n",
    "                smoothing=True,\n",
    "                plot_eval=True\n",
    "                )"
   ],
   "id": "5fd9ce499429da23",
   "outputs": [
    {
     "name": "stdout",
     "output_type": "stream",
     "text": [
      "Plot saved as plots/tr_return_3.png\n"
     ]
    }
   ],
   "execution_count": 639
  },
  {
   "metadata": {
    "ExecuteTime": {
     "end_time": "2024-06-02T16:37:48.095816Z",
     "start_time": "2024-06-02T16:37:47.941319Z"
    }
   },
   "cell_type": "code",
   "source": [
    "aggregate_plots(tr_iterations,\n",
    "                eval_iterations,\n",
    "                [tr_returns_arrays[3][:,:499], eval_returns_arrays[3][:,:24]],\n",
    "                ['4 training', '4 evaluation'],\n",
    "                'Mean Value',\n",
    "                None,\n",
    "                'tr_return_4',\n",
    "                log_scale=False,\n",
    "                smoothing=True,\n",
    "                plot_eval=True\n",
    "                )"
   ],
   "id": "6b41a18875721548",
   "outputs": [
    {
     "name": "stdout",
     "output_type": "stream",
     "text": [
      "Plot saved as plots/tr_return_4.png\n"
     ]
    }
   ],
   "execution_count": 640
  },
  {
   "metadata": {
    "ExecuteTime": {
     "end_time": "2024-06-02T16:37:48.250369Z",
     "start_time": "2024-06-02T16:37:48.097318Z"
    }
   },
   "cell_type": "code",
   "source": [
    "aggregate_plots(tr_iterations,\n",
    "                eval_iterations,\n",
    "                [tr_returns_arrays[4][:,:499], eval_returns_arrays[4][:,:24]],\n",
    "                ['5 training', '5 evaluation'],\n",
    "                'Mean Value',\n",
    "                None,\n",
    "                'tr_return_5',\n",
    "                log_scale=False,\n",
    "                smoothing=True,\n",
    "                plot_eval=True\n",
    "                )"
   ],
   "id": "805e097b33587879",
   "outputs": [
    {
     "name": "stdout",
     "output_type": "stream",
     "text": [
      "Plot saved as plots/tr_return_5.png\n"
     ]
    }
   ],
   "execution_count": 641
  },
  {
   "metadata": {
    "ExecuteTime": {
     "end_time": "2024-06-02T16:37:48.435388Z",
     "start_time": "2024-06-02T16:37:48.251370Z"
    }
   },
   "cell_type": "code",
   "source": [
    "aggregate_plots(tr_iterations,\n",
    "                eval_iterations,\n",
    "                [tr_returns_arrays[5][:,:499], eval_returns_arrays[5][:,:24]],\n",
    "                ['6 training', '6 evaluation'],\n",
    "                'Mean Value',\n",
    "                None,\n",
    "                'tr_return_6',\n",
    "                log_scale=False,\n",
    "                smoothing=True,\n",
    "                plot_eval=True\n",
    "                )"
   ],
   "id": "fe0eff5904c695f8",
   "outputs": [
    {
     "name": "stdout",
     "output_type": "stream",
     "text": [
      "Plot saved as plots/tr_return_6.png\n"
     ]
    }
   ],
   "execution_count": 642
  },
  {
   "metadata": {
    "ExecuteTime": {
     "end_time": "2024-06-02T16:37:48.607581Z",
     "start_time": "2024-06-02T16:37:48.437390Z"
    }
   },
   "cell_type": "code",
   "source": [
    "aggregate_plots(tr_iterations,\n",
    "                eval_iterations,\n",
    "                [tr_returns_arrays[6][:,:499], eval_returns_arrays[6][:,:24]],\n",
    "                ['1 stoch training', '1 stoch evaluation'],\n",
    "                'Mean Value',\n",
    "                None,\n",
    "                'tr_return_1_stoch',\n",
    "                log_scale=False,\n",
    "                smoothing=True,\n",
    "                plot_eval=True\n",
    "                )"
   ],
   "id": "b5e24c9dba9b0d69",
   "outputs": [
    {
     "name": "stdout",
     "output_type": "stream",
     "text": [
      "Plot saved as plots/tr_return_1_stoch.png\n"
     ]
    }
   ],
   "execution_count": 643
  }
 ],
 "metadata": {
  "kernelspec": {
   "display_name": "Python 3",
   "language": "python",
   "name": "python3"
  },
  "language_info": {
   "codemirror_mode": {
    "name": "ipython",
    "version": 2
   },
   "file_extension": ".py",
   "mimetype": "text/x-python",
   "name": "python",
   "nbconvert_exporter": "python",
   "pygments_lexer": "ipython2",
   "version": "2.7.6"
  }
 },
 "nbformat": 4,
 "nbformat_minor": 5
}
